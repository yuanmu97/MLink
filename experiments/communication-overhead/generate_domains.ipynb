{
 "cells": [
  {
   "cell_type": "code",
   "execution_count": 1,
   "metadata": {},
   "outputs": [],
   "source": [
    "import numpy as np\n",
    "import matplotlib.pyplot as plt"
   ]
  },
  {
   "cell_type": "code",
   "execution_count": 2,
   "metadata": {},
   "outputs": [],
   "source": [
    "def generate_pred(x, sigma=0.5, label_n=16):\n",
    "    preds = []\n",
    "    for t in x:\n",
    "        bins = np.arange(1, label_n+1)\n",
    "        p = 1/(sigma * np.sqrt(2 * np.pi)) * np.exp(-(bins - t)**2 / (2 * sigma**2))\n",
    "        preds.append(p)\n",
    "    preds = np.stack(preds)\n",
    "    return preds\n",
    "\n",
    "# tmp_x = [6.1, 5.]\n",
    "# generate_pred(tmp_x, 0.5, 16), np.sum(generate_pred(tmp_x, 0.5, 16), axis=1)"
   ]
  },
  {
   "cell_type": "code",
   "execution_count": 3,
   "metadata": {},
   "outputs": [
    {
     "name": "stdout",
     "output_type": "stream",
     "text": [
      "Domain#1: (1000, 16) 4 (1000, 16) 9\n",
      "Domain#2: (1000, 16) 8 (1000, 16) 5\n",
      "Domain#3: (1000, 16) 12 (1000, 16) 13\n"
     ]
    }
   ],
   "source": [
    "output_len = 16\n",
    "locs = [4, 8, 12]\n",
    "shifts = [5, -3, 1]\n",
    "std = 2\n",
    "data_num = 1000\n",
    "\n",
    "x1 = generate_pred(np.random.normal(locs[0], std, data_num))\n",
    "y1 = generate_pred(np.random.normal(locs[0]+shifts[0], std, data_num))\n",
    "print(\"Domain#1:\", x1.shape, locs[0], y1.shape, locs[0]+shifts[0])\n",
    "\n",
    "x2 = generate_pred(np.random.normal(locs[1], std, data_num))\n",
    "y2 = generate_pred(np.random.normal(locs[1]+shifts[1], std, data_num))\n",
    "print(\"Domain#2:\", x2.shape, locs[1], y2.shape, locs[1]+shifts[1])\n",
    "\n",
    "x3 = generate_pred(np.random.normal(locs[2], std, data_num))\n",
    "y3 = generate_pred(np.random.normal(locs[2]+shifts[2], std, data_num))\n",
    "print(\"Domain#3:\", x3.shape, locs[2], y3.shape, locs[2]+shifts[2])\n",
    "\n",
    "np.save(\"x1.npy\", x1)\n",
    "np.save(\"x2.npy\", x2)\n",
    "np.save(\"x3.npy\", x3)\n",
    "np.save(\"y1.npy\", y1)\n",
    "np.save(\"y2.npy\", y2)\n",
    "np.save(\"y3.npy\", y3)"
   ]
  },
  {
   "cell_type": "code",
   "execution_count": null,
   "metadata": {},
   "outputs": [],
   "source": []
  }
 ],
 "metadata": {
  "kernelspec": {
   "display_name": "mlink",
   "language": "python",
   "name": "mlink"
  },
  "language_info": {
   "codemirror_mode": {
    "name": "ipython",
    "version": 3
   },
   "file_extension": ".py",
   "mimetype": "text/x-python",
   "name": "python",
   "nbconvert_exporter": "python",
   "pygments_lexer": "ipython3",
   "version": "3.9.12"
  }
 },
 "nbformat": 4,
 "nbformat_minor": 2
}
